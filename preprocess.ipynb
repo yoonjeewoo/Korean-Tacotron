{
 "cells": [
  {
   "cell_type": "code",
   "execution_count": 1,
   "metadata": {},
   "outputs": [],
   "source": [
    "import pandas as pd\n",
    "import librosa\n",
    "import numpy as np\n",
    "import librosa.display\n",
    "from tqdm import tqdm"
   ]
  },
  {
   "cell_type": "code",
   "execution_count": 2,
   "metadata": {
    "scrolled": true
   },
   "outputs": [
    {
     "name": "stderr",
     "output_type": "stream",
     "text": [
      "100%|██████████| 4999/4999 [41:01<00:00,  2.03it/s]\n"
     ]
    }
   ],
   "source": [
    "filenames = []\n",
    "texts = []\n",
    "for i in tqdm(range(1, 5000)):\n",
    "    kss = pd.read_csv(\"./kss/metadata.csv\", sep='|').sample(2).values\n",
    "    new_filename = kss[0][0].split('.wav')[0] + '_' + kss[1][0]\n",
    "    new_text = kss[0][1] + ' ' + kss[1][1]\n",
    "    filenames.append(new_filename)\n",
    "    texts.append(new_text)\n",
    "    x, sr = librosa.load(\"./kss/wavs/\"+kss[0][0])\n",
    "    y, sr = librosa.load(\"./kss/wavs/\"+kss[1][0])\n",
    "    z = np.append(x,y)\n",
    "    librosa.output.write_wav(\"./kss_augmented/wavs/\"+new_filename, z, sr)"
   ]
  },
  {
   "cell_type": "code",
   "execution_count": 18,
   "metadata": {},
   "outputs": [],
   "source": [
    "pd.DataFrame({'filename':filenames, 'text':texts}).to_csv('metadata.csv', sep='|', encoding='utf-8', index=False)"
   ]
  },
  {
   "cell_type": "code",
   "execution_count": null,
   "metadata": {},
   "outputs": [],
   "source": []
  },
  {
   "cell_type": "code",
   "execution_count": 23,
   "metadata": {},
   "outputs": [],
   "source": [
    "df1 = pd.read_csv('kss_augmented/metadata.csv', sep='|')\n",
    "df2 = pd.read_csv('kss/metadata.csv', sep='|')"
   ]
  },
  {
   "cell_type": "code",
   "execution_count": 34,
   "metadata": {},
   "outputs": [],
   "source": [
    "new_arr = np.concatenate([df1.values, df2.values])"
   ]
  },
  {
   "cell_type": "code",
   "execution_count": 45,
   "metadata": {},
   "outputs": [],
   "source": [
    "pd.DataFrame(new_arr).sample(frac=1).to_csv('metadata.csv', sep='|', encoding='utf-8', index=False)"
   ]
  },
  {
   "cell_type": "code",
   "execution_count": null,
   "metadata": {},
   "outputs": [],
   "source": []
  }
 ],
 "metadata": {
  "kernelspec": {
   "display_name": "tacotron_py36",
   "language": "python",
   "name": "tacotron_py36"
  },
  "language_info": {
   "codemirror_mode": {
    "name": "ipython",
    "version": 3
   },
   "file_extension": ".py",
   "mimetype": "text/x-python",
   "name": "python",
   "nbconvert_exporter": "python",
   "pygments_lexer": "ipython3",
   "version": "3.6.8"
  }
 },
 "nbformat": 4,
 "nbformat_minor": 2
}
